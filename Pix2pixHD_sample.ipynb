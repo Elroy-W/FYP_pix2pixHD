{
  "cells": [
    {
      "cell_type": "markdown",
      "metadata": {
        "id": "0LhgqS5-viUe"
      },
      "source": [
        "#Pix2PixHD"
      ]
    },
    {
      "cell_type": "markdown",
      "metadata": {
        "id": "7wNjDKdQy35h"
      },
      "source": [
        "# Install"
      ]
    },
    {
      "cell_type": "code",
      "execution_count": 2,
      "metadata": {
        "colab": {
          "base_uri": "https://localhost:8080/"
        },
        "id": "pENpdPzLjbbM",
        "outputId": "aef7f448-f64e-42a8-f0d9-87ac676cd8ea"
      },
      "outputs": [
        {
          "output_type": "stream",
          "name": "stdout",
          "text": [
            "Mounted at /content/drive\n"
          ]
        }
      ],
      "source": [
        "from google.colab import drive\n",
        "drive.mount('/content/drive')"
      ]
    },
    {
      "cell_type": "code",
      "execution_count": 3,
      "metadata": {
        "id": "-hm8XRb1jg0e",
        "colab": {
          "base_uri": "https://localhost:8080/"
        },
        "outputId": "2fa4161d-a7a1-4d24-f787-5710dc96094c"
      },
      "outputs": [
        {
          "output_type": "execute_result",
          "data": {
            "text/plain": [
              "['ffhqr.part1.tar',\n",
              " 'ffhq-dataset',\n",
              " 'pix2pixHD',\n",
              " 'ffhqr',\n",
              " 'a',\n",
              " 'img256train.zip',\n",
              " 'pytorch-CycleGAN-and-pix2pix',\n",
              " 'pix2pix and cycleGAN']"
            ]
          },
          "metadata": {},
          "execution_count": 3
        }
      ],
      "source": [
        "import os\n",
        "path = \"/content/drive/Shareddrives/elroy7777777@gmail.com\"\n",
        "os.chdir(path)\n",
        "os.listdir(path)"
      ]
    },
    {
      "cell_type": "code",
      "execution_count": 4,
      "metadata": {
        "id": "XdBG9MPv1cVl",
        "colab": {
          "base_uri": "https://localhost:8080/"
        },
        "outputId": "e00b38d7-dac5-4f32-b460-ac97e098268a"
      },
      "outputs": [
        {
          "output_type": "stream",
          "name": "stdout",
          "text": [
            "Wed Apr  6 11:35:37 2022       \n",
            "+-----------------------------------------------------------------------------+\n",
            "| NVIDIA-SMI 460.32.03    Driver Version: 460.32.03    CUDA Version: 11.2     |\n",
            "|-------------------------------+----------------------+----------------------+\n",
            "| GPU  Name        Persistence-M| Bus-Id        Disp.A | Volatile Uncorr. ECC |\n",
            "| Fan  Temp  Perf  Pwr:Usage/Cap|         Memory-Usage | GPU-Util  Compute M. |\n",
            "|                               |                      |               MIG M. |\n",
            "|===============================+======================+======================|\n",
            "|   0  Tesla T4            Off  | 00000000:00:04.0 Off |                    0 |\n",
            "| N/A   40C    P8     9W /  70W |      0MiB / 15109MiB |      0%      Default |\n",
            "|                               |                      |                  N/A |\n",
            "+-------------------------------+----------------------+----------------------+\n",
            "                                                                               \n",
            "+-----------------------------------------------------------------------------+\n",
            "| Processes:                                                                  |\n",
            "|  GPU   GI   CI        PID   Type   Process name                  GPU Memory |\n",
            "|        ID   ID                                                   Usage      |\n",
            "|=============================================================================|\n",
            "|  No running processes found                                                 |\n",
            "+-----------------------------------------------------------------------------+\n"
          ]
        }
      ],
      "source": [
        "!nvidia-smi"
      ]
    },
    {
      "cell_type": "code",
      "execution_count": 5,
      "metadata": {
        "id": "sFwyFXCw3f5Z",
        "colab": {
          "base_uri": "https://localhost:8080/"
        },
        "outputId": "2bec9b0a-6bef-435b-d297-5a80c3d5ad2c"
      },
      "outputs": [
        {
          "output_type": "stream",
          "name": "stdout",
          "text": [
            "fatal: destination path 'pix2pixHD' already exists and is not an empty directory.\n"
          ]
        }
      ],
      "source": [
        "#run this cell once per session\n",
        "!git clone https://github.com/NVIDIA/pix2pixHD"
      ]
    },
    {
      "cell_type": "code",
      "execution_count": null,
      "metadata": {
        "id": "IIoqbSQnra2C"
      },
      "outputs": [],
      "source": [
        "!pip install dominate\n",
        "%cd pix2pixHD"
      ]
    },
    {
      "cell_type": "markdown",
      "metadata": {
        "id": "yFw1kDQBx3LN"
      },
      "source": [
        "# Training\n",
        "\n",
        "-   `!python train.py --name pix2pixHD_wer --dataroot ./ffhqr --label_nc 0 --no_instance  `\n",
        "\n",
        "Change the `--dataroot` and `--name` to your own dataset's path and model's name. Use `--gpu_ids 0,1,..` to train on multiple GPUs and `--batch_size` to change the batch size."
      ]
    },
    {
      "cell_type": "code",
      "execution_count": null,
      "metadata": {
        "id": "zcngeYdUmybq"
      },
      "outputs": [],
      "source": [
        "# train 512p model\n",
        "!python train.py --name pix2pixHD_wer --dataroot ./ffhqr --label_nc 0 --no_instance "
      ]
    },
    {
      "cell_type": "code",
      "source": [
        "# use pretrianed 512p model to generate 1024p model\n",
        "!python train.py --name pix2pixHD_wer_1024p --dataroot ./ffhqr --netG local --ngf 32 --num_D 3 --load_pretrain checkpoints/pix2pixHD_wer/ --niter 50 --niter_decay 50 --niter_fix_global 10 --resize_or_crop none --label_nc 0 --no_instance "
      ],
      "metadata": {
        "id": "KwCppUruSTa6"
      },
      "execution_count": null,
      "outputs": []
    },
    {
      "cell_type": "markdown",
      "metadata": {
        "id": "9UkcaFZiyASl"
      },
      "source": [
        "# Testing\n",
        "\n",
        "-   `!python test.py --name pix2pixHD_wer_1024p --dataroot ./ffhqr --label_nc 0 --resize_or_crop none --how_many 100 --no_instance `\n",
        "\n",
        "Change the `--dataroot`, `--name` to be consistent with your trained model's configuration and how you want to transform images.\n",
        "\n"
      ]
    },
    {
      "cell_type": "code",
      "execution_count": null,
      "metadata": {
        "id": "ylLO9Qy9woON"
      },
      "outputs": [],
      "source": [
        "# \n",
        "!python test.py --name fyp-wer --dataroot ./ffhqr --label_nc 0 --resize_or_crop none --how_many 100 --no_instance "
      ]
    }
  ],
  "metadata": {
    "accelerator": "GPU",
    "colab": {
      "collapsed_sections": [],
      "machine_shape": "hm",
      "name": "“Pix2PixHD.ipynb”",
      "provenance": []
    },
    "kernelspec": {
      "display_name": "Python 3",
      "name": "python3"
    }
  },
  "nbformat": 4,
  "nbformat_minor": 0
}