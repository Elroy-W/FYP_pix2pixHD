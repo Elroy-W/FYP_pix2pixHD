{
  "cells": [
    {
      "cell_type": "markdown",
      "metadata": {
        "id": "0LhgqS5-viUe"
      },
      "source": [
        "#Pix2PixHD"
      ]
    },
    {
      "cell_type": "markdown",
      "metadata": {
        "id": "7wNjDKdQy35h"
      },
      "source": [
        "# Install"
      ]
    },
    {
      "cell_type": "code",
      "execution_count": null,
      "metadata": {
        "colab": {
          "base_uri": "https://localhost:8080/"
        },
        "id": "pENpdPzLjbbM",
        "outputId": "6a7204f0-19d1-4861-9a67-d06c5daf0691"
      },
      "outputs": [
        {
          "output_type": "stream",
          "name": "stdout",
          "text": [
            "Mounted at /content/drive\n"
          ]
        }
      ],
      "source": [
        "from google.colab import drive\n",
        "drive.mount('/content/drive')"
      ]
    },
    {
      "cell_type": "code",
      "execution_count": null,
      "metadata": {
        "id": "-hm8XRb1jg0e"
      },
      "outputs": [],
      "source": [
        "import os\n",
        "path = \"/content/drive/Shareddrives/elroy7777777@gmail.com\"\n",
        "os.chdir(path)\n",
        "os.listdir(path)"
      ]
    },
    {
      "cell_type": "code",
      "execution_count": null,
      "metadata": {
        "id": "XdBG9MPv1cVl"
      },
      "outputs": [],
      "source": [
        "!nvidia-smi"
      ]
    },
    {
      "cell_type": "code",
      "execution_count": null,
      "metadata": {
        "id": "sFwyFXCw3f5Z"
      },
      "outputs": [],
      "source": [
        "#run this cell once per session\n",
        "!git clone https://github.com/NVIDIA/pix2pixHD"
      ]
    },
    {
      "cell_type": "code",
      "execution_count": null,
      "metadata": {
        "id": "IIoqbSQnra2C"
      },
      "outputs": [],
      "source": [
        "!pip install dominate\n",
        "%cd pix2pixHD"
      ]
    },
    {
      "cell_type": "markdown",
      "metadata": {
        "id": "yFw1kDQBx3LN"
      },
      "source": [
        "# Training\n",
        "\n",
        "-   `python train.py --name fyp-wer --dataroot ./ffhqr --label_nc 0 --no_instance `\n",
        "\n",
        "Change the `--dataroot` and `--name` to your own dataset's path and model's name. Use `--gpu_ids 0,1,..` to train on multiple GPUs and `--batch_size` to change the batch size."
      ]
    },
    {
      "cell_type": "code",
      "execution_count": null,
      "metadata": {
        "id": "zcngeYdUmybq"
      },
      "outputs": [],
      "source": [
        "# train 512p model\n",
        "!python train.py --name fyp-wer --dataroot ./ffhqr --label_nc 0 --no_instance "
      ]
    },
    {
      "cell_type": "code",
      "source": [
        "# use pretrianed 512p model to generate 1024p model\n",
        "!python train.py --name fyp-wer-1024p --dataroot ./ffhqr --netG local --ngf 32 --num_D 3 --load_pretrain checkpoints/fyp-wer/ --niter 50 --niter_decay 50 --niter_fix_global 10 --resize_or_crop none --label_nc 0 --no_instance "
      ],
      "metadata": {
        "id": "KwCppUruSTa6"
      },
      "execution_count": null,
      "outputs": []
    },
    {
      "cell_type": "markdown",
      "metadata": {
        "id": "9UkcaFZiyASl"
      },
      "source": [
        "# Testing\n",
        "\n",
        "-   `python test.py --dataroot ./datasets/facades --direction BtoA --model pix2pix --name facades_pix2pix`\n",
        "\n",
        "Change the `--dataroot`, `--name` to be consistent with your trained model's configuration and how you want to transform images.\n",
        "\n"
      ]
    },
    {
      "cell_type": "code",
      "execution_count": null,
      "metadata": {
        "id": "ylLO9Qy9woON"
      },
      "outputs": [],
      "source": [
        "!python test.py --name fyp-wer-1024p --dataroot ./ffhqr --label_nc 0 --how_many 1000 --no_instance "
      ]
    }
  ],
  "metadata": {
    "accelerator": "GPU",
    "colab": {
      "collapsed_sections": [],
      "machine_shape": "hm",
      "name": "“Pix2PixHD.ipynb”",
      "provenance": []
    },
    "kernelspec": {
      "display_name": "Python 3",
      "name": "python3"
    }
  },
  "nbformat": 4,
  "nbformat_minor": 0
}